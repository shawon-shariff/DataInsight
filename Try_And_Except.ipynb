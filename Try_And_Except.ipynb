{
  "nbformat": 4,
  "nbformat_minor": 0,
  "metadata": {
    "colab": {
      "name": "Untitled8.ipynb",
      "provenance": [],
      "authorship_tag": "ABX9TyOpkMj8hwFeAXvkn1sPMqdJ",
      "include_colab_link": true
    },
    "kernelspec": {
      "name": "python3",
      "display_name": "Python 3"
    },
    "language_info": {
      "name": "python"
    }
  },
  "cells": [
    {
      "cell_type": "markdown",
      "metadata": {
        "id": "view-in-github",
        "colab_type": "text"
      },
      "source": [
        "<a href=\"https://colab.research.google.com/github/shawon-shariff/DataInsight/blob/master/Try_And_Except.ipynb\" target=\"_parent\"><img src=\"https://colab.research.google.com/assets/colab-badge.svg\" alt=\"Open In Colab\"/></a>"
      ]
    },
    {
      "cell_type": "code",
      "metadata": {
        "colab": {
          "base_uri": "https://localhost:8080/"
        },
        "id": "ZnYgzmQ1affc",
        "outputId": "487f8dc4-abdb-49c1-ca0f-d69005850e7a"
      },
      "source": [
        "num = input('Enter a number: ')\n",
        "try:\n",
        "    convert_num = int(num)\n",
        "except:\n",
        "    convert_num = -1\n",
        "if convert_num >= 0:\n",
        "    print('Nice work. You have entered ', convert_num)\n",
        "else:\n",
        "    print('Invalid Input')"
      ],
      "execution_count": 5,
      "outputs": [
        {
          "output_type": "stream",
          "name": "stdout",
          "text": [
            "Enter a number: 1234vhgg\n",
            "Invalid Input\n"
          ]
        }
      ]
    },
    {
      "cell_type": "markdown",
      "metadata": {
        "id": "2bd7xbuLas6Q"
      },
      "source": [
        " "
      ]
    }
  ]
}