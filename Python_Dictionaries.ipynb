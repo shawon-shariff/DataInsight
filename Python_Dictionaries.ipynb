{
  "nbformat": 4,
  "nbformat_minor": 0,
  "metadata": {
    "colab": {
      "name": "Python_Dictionaries.ipynb",
      "provenance": [],
      "authorship_tag": "ABX9TyNpIY9z29p7uG6BreR6b3uH",
      "include_colab_link": true
    },
    "kernelspec": {
      "name": "python3",
      "display_name": "Python 3"
    },
    "language_info": {
      "name": "python"
    }
  },
  "cells": [
    {
      "cell_type": "markdown",
      "metadata": {
        "id": "view-in-github",
        "colab_type": "text"
      },
      "source": [
        "<a href=\"https://colab.research.google.com/github/shawon-shariff/DataInsight/blob/master/Python_Dictionaries.ipynb\" target=\"_parent\"><img src=\"https://colab.research.google.com/assets/colab-badge.svg\" alt=\"Open In Colab\"/></a>"
      ]
    },
    {
      "cell_type": "markdown",
      "metadata": {
        "id": "7xvnc5gZ-tXH"
      },
      "source": [
        "# **Python Dictionaries**\n",
        "In this code segment, we will talk about python dictionaries. how they are created, accessing, adding, removing elements from them and various built-in methods.\n",
        "\n",
        "Python dictionary is an unordered collection of items. Each item of a dictionary has a key/value pair. Dictionaries are optimized to retrieve values when the key is known."
      ]
    },
    {
      "cell_type": "markdown",
      "metadata": {
        "id": "BhzrEz-cJETe"
      },
      "source": [
        "###**Creating Python Dictionary**\n",
        "\n",
        "Creating a dictionary is as simple as placing items inside curly braces {} separated by commas.\n",
        "An item has a key and a corresponding value that is expressed as a pair (key: value).\n",
        "\n",
        "While the values can be of any data type and can repeat, keys must be of immutable type (string, number or tuple with immutable elements) and must be unique."
      ]
    },
    {
      "cell_type": "code",
      "metadata": {
        "id": "ekMIj2zaJTOh"
      },
      "source": [
        "# empty dictionary\n",
        "new_dict = {}\n",
        "\n",
        "# dictionary with integer keys\n",
        "new_dict = {1: 'John', 2: 'Doe'}\n",
        "\n",
        "#dictionary with string keys\n",
        "new_dict = {'first_name': 'John', 'last_name': 'Joe'}"
      ],
      "execution_count": 18,
      "outputs": []
    },
    {
      "cell_type": "markdown",
      "metadata": {
        "id": "ULG7KwxBK4f4"
      },
      "source": [
        "##**Accessing Elements**\n",
        "We can the keys to access elements of the dictionary. We use use [] or get method to access elements. Let me give you an example of both."
      ]
    },
    {
      "cell_type": "code",
      "metadata": {
        "colab": {
          "base_uri": "https://localhost:8080/"
        },
        "id": "B7VyUWaEJg-P",
        "outputId": "f03431d9-1961-4252-f224-d56310b844d6"
      },
      "source": [
        "print(new_dict['first_name'])"
      ],
      "execution_count": 19,
      "outputs": [
        {
          "output_type": "stream",
          "name": "stdout",
          "text": [
            "John\n"
          ]
        }
      ]
    },
    {
      "cell_type": "code",
      "metadata": {
        "colab": {
          "base_uri": "https://localhost:8080/",
          "height": 163
        },
        "id": "5m5484ScLjt-",
        "outputId": "d8e84763-a5e7-4235-d081-45ba0f65f7fc"
      },
      "source": [
        "print(new_dict['middle_name'])"
      ],
      "execution_count": 20,
      "outputs": [
        {
          "output_type": "error",
          "ename": "KeyError",
          "evalue": "ignored",
          "traceback": [
            "\u001b[0;31m---------------------------------------------------------------------------\u001b[0m",
            "\u001b[0;31mKeyError\u001b[0m                                  Traceback (most recent call last)",
            "\u001b[0;32m<ipython-input-20-de885c9bc8c1>\u001b[0m in \u001b[0;36m<module>\u001b[0;34m()\u001b[0m\n\u001b[0;32m----> 1\u001b[0;31m \u001b[0mprint\u001b[0m\u001b[0;34m(\u001b[0m\u001b[0mnew_dict\u001b[0m\u001b[0;34m[\u001b[0m\u001b[0;34m'middle_name'\u001b[0m\u001b[0;34m]\u001b[0m\u001b[0;34m)\u001b[0m\u001b[0;34m\u001b[0m\u001b[0;34m\u001b[0m\u001b[0m\n\u001b[0m",
            "\u001b[0;31mKeyError\u001b[0m: 'middle_name'"
          ]
        }
      ]
    },
    {
      "cell_type": "markdown",
      "metadata": {
        "id": "lX6pmWtnL2H7"
      },
      "source": [
        "Here we are getting ar error because there is no key named \"middle_name\". To avoid this kinds of situation, we can use get method to access which will return nothing if there is no matched key."
      ]
    },
    {
      "cell_type": "code",
      "metadata": {
        "colab": {
          "base_uri": "https://localhost:8080/"
        },
        "id": "m8SzUhQCLyer",
        "outputId": "e515c94e-4d8d-4423-8d38-b83224c1ea4c"
      },
      "source": [
        "print(new_dict.get('middle_name'))"
      ],
      "execution_count": 21,
      "outputs": [
        {
          "output_type": "stream",
          "name": "stdout",
          "text": [
            "None\n"
          ]
        }
      ]
    },
    {
      "cell_type": "code",
      "metadata": {
        "colab": {
          "base_uri": "https://localhost:8080/"
        },
        "id": "26zIAwt5MTRH",
        "outputId": "69b9d698-1dc2-4692-af2b-07d00d7b928b"
      },
      "source": [
        "print(new_dict.get('last_name'))"
      ],
      "execution_count": 22,
      "outputs": [
        {
          "output_type": "stream",
          "name": "stdout",
          "text": [
            "Joe\n"
          ]
        }
      ]
    },
    {
      "cell_type": "markdown",
      "metadata": {
        "id": "sLMHGkRuMd6x"
      },
      "source": [
        "## **Changing and Adding Dictionary elements**\n",
        "Dictionaries are mutable. We can add new items or change the value of existing items using an assignment operator.\n",
        "\n",
        "If the key is already present, then the existing value gets updated. In case the key is not present, a new (key: value) pair is added to the dictionary."
      ]
    },
    {
      "cell_type": "code",
      "metadata": {
        "colab": {
          "base_uri": "https://localhost:8080/"
        },
        "id": "skLJUI9SMZIk",
        "outputId": "cd3ef269-de4e-494f-f666-30a72d243d21"
      },
      "source": [
        "# Changing and adding Dictionary Elements\n",
        "new_dict = {'first_name': 'Karim', 'last_name': 'Hasan','age':24}\n",
        "print(new_dict)\n",
        "\n",
        "# update value\n",
        "new_dict['age'] = 27\n",
        "print(new_dict)\n",
        "\n",
        "# add item\n",
        "new_dict['address'] = 'Downtown'\n",
        "print(new_dict)"
      ],
      "execution_count": 23,
      "outputs": [
        {
          "output_type": "stream",
          "name": "stdout",
          "text": [
            "{'first_name': 'Karim', 'last_name': 'Hasan', 'age': 24}\n",
            "{'first_name': 'Karim', 'last_name': 'Hasan', 'age': 27}\n",
            "{'first_name': 'Karim', 'last_name': 'Hasan', 'age': 27, 'address': 'Downtown'}\n"
          ]
        }
      ]
    },
    {
      "cell_type": "markdown",
      "metadata": {
        "id": "gCwvgv0ENxBc"
      },
      "source": [
        "## **Removing elements from Dictionary**\n",
        "We can remove a particular item in a dictionary by using the pop() method. This method removes an item with the provided key and returns the value.\n",
        "\n",
        "The popitem() method can be used to remove and return an arbitrary (key, value) item pair from the dictionary. All the items can be removed at once, using the clear() method.\n",
        "\n",
        "We can also use the del keyword to remove individual items or the entire dictionary itself."
      ]
    },
    {
      "cell_type": "code",
      "metadata": {
        "colab": {
          "base_uri": "https://localhost:8080/"
        },
        "id": "u0sEmahUNhVK",
        "outputId": "8f13a459-83cf-4db1-de9d-5e78c6b67bc9"
      },
      "source": [
        "print(\"Before removing...\")\n",
        "print(new_dict)\n",
        "print(\"After Removing Address...\")\n",
        "new_dict.pop('address')\n",
        "print(new_dict)\n",
        "\n",
        "new_dict.popitem()\n",
        "print(new_dict)\n",
        "\n",
        "# remove all items\n",
        "new_dict.clear()\n",
        "\n",
        "# Output: {}\n",
        "print(new_dict)\n",
        "\n",
        "# delete the dictionary itself\n",
        "del new_dict"
      ],
      "execution_count": 24,
      "outputs": [
        {
          "output_type": "stream",
          "name": "stdout",
          "text": [
            "Before removing...\n",
            "{'first_name': 'Karim', 'last_name': 'Hasan', 'age': 27, 'address': 'Downtown'}\n",
            "After Removing Address...\n",
            "{'first_name': 'Karim', 'last_name': 'Hasan', 'age': 27}\n",
            "{'first_name': 'Karim', 'last_name': 'Hasan'}\n",
            "{}\n"
          ]
        }
      ]
    },
    {
      "cell_type": "markdown",
      "metadata": {
        "id": "rWIk-NOWR3gm"
      },
      "source": [
        "### **Iterating Through a Dictionary**\n",
        "We can iterate through each key in a dictionary using a for loop."
      ]
    },
    {
      "cell_type": "code",
      "metadata": {
        "colab": {
          "base_uri": "https://localhost:8080/"
        },
        "id": "5QVpUuZpODVc",
        "outputId": "52ca453f-750f-4bba-de11-494e82ff0287"
      },
      "source": [
        "# Iterating through a Dictionary\n",
        "second_dict = {\"name\": \"Shawon\", \"age\": 24, \"height\": \"5 feet 10 inch\", \"weight\": \"56 kg\"}\n",
        "for key,value in second_dict.items():\n",
        "    print(key ,\":\",value)"
      ],
      "execution_count": 31,
      "outputs": [
        {
          "output_type": "stream",
          "name": "stdout",
          "text": [
            "name : Shawon\n",
            "age : 24\n",
            "height : 5 feet 10 inch\n",
            "weight : 56 kg\n"
          ]
        }
      ]
    },
    {
      "cell_type": "code",
      "metadata": {
        "id": "2wY0USr6UFUE"
      },
      "source": [
        ""
      ],
      "execution_count": null,
      "outputs": []
    }
  ]
}